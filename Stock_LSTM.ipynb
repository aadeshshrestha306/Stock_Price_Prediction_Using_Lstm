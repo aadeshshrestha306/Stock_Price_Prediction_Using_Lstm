{
 "cells": [
  {
   "cell_type": "code",
   "execution_count": null,
   "id": "52ee31c9-6a24-4484-b794-24709fdaeb96",
   "metadata": {},
   "outputs": [],
   "source": [
    "import numpy as np\n",
    "import pandas as pd\n",
    "import matplotlib.pyplot as plt \n",
    "import tensorflow as tf\n",
    "from sklearn.preprocessing import MinMaxScaler\n",
    "import seaborn as sns\n",
    "import mplfinance as mpf\n",
    "import requests\n",
    "from sklearn.metrics import mean_squared_error"
   ]
  },
  {
   "cell_type": "code",
   "execution_count": null,
   "id": "8f715eba-a82a-46ae-8335-349c1e653599",
   "metadata": {},
   "outputs": [],
   "source": [
    "#API Key\n",
    "\n",
    "key = \"XTL1OOAD2EJD1V6Y\""
   ]
  },
  {
   "cell_type": "code",
   "execution_count": null,
   "id": "866f2120-b1eb-4541-9a61-d87e09ee8aa0",
   "metadata": {},
   "outputs": [],
   "source": [
    "#API\n",
    "\n",
    "base_url = \"https://www.alphavantage.co/query\"\n",
    "function = \"TIME_SERIES_DAILY\"\n",
    "symbol = \"TSLA\"\n",
    "outputsize = \"full\"  \n",
    "interval = \"daily\"  "
   ]
  },
  {
   "cell_type": "code",
   "execution_count": null,
   "id": "bb5b115b-09cd-4469-890e-0ef134a707a7",
   "metadata": {},
   "outputs": [],
   "source": [
    "#API Parameters\n",
    "\n",
    "params = {\n",
    "    \"function\": function,\n",
    "    \"symbol\": symbol,\n",
    "    \"outputsize\": outputsize,\n",
    "    \"apikey\": key,\n",
    "    #\"interval\": interval,  \n",
    "}"
   ]
  },
  {
   "cell_type": "code",
   "execution_count": null,
   "id": "a34c48de-b4c6-449c-86fa-0221d11ef9bb",
   "metadata": {},
   "outputs": [],
   "source": [
    "#Calling API\n",
    "\n",
    "response = requests.get(base_url, params=params)"
   ]
  },
  {
   "cell_type": "code",
   "execution_count": null,
   "id": "5e972df1-d3f0-46ae-86d6-4e1b11fc946c",
   "metadata": {},
   "outputs": [],
   "source": [
    "#Converting fetched data into json format\n",
    "\n",
    "data = response.json()"
   ]
  },
  {
   "cell_type": "code",
   "execution_count": null,
   "id": "140ffd8f-b1c2-4ea0-97f8-7b6287f261c3",
   "metadata": {},
   "outputs": [],
   "source": [
    "data"
   ]
  },
  {
   "cell_type": "code",
   "execution_count": null,
   "id": "96564f02-ddb5-4ab8-8508-353d61bf08b9",
   "metadata": {},
   "outputs": [],
   "source": [
    "ts_data = data[\"Time Series (Daily)\"]"
   ]
  },
  {
   "cell_type": "code",
   "execution_count": null,
   "id": "82e112c0-4bdf-48cc-8728-b961410e4a1b",
   "metadata": {},
   "outputs": [],
   "source": [
    "#json to dataframe\n",
    "\n",
    "df = pd.DataFrame.from_dict(ts_data, orient=\"index\")  "
   ]
  },
  {
   "cell_type": "code",
   "execution_count": null,
   "id": "6046b4a6-d994-43e7-a85a-f5e7d36eab6a",
   "metadata": {},
   "outputs": [],
   "source": [
    "df.head()"
   ]
  },
  {
   "cell_type": "code",
   "execution_count": null,
   "id": "467cf585-c24b-4560-9d68-85e41033fd1d",
   "metadata": {},
   "outputs": [],
   "source": [
    "#renaming dataframe columns \n",
    "\n",
    "columns = ['open', 'high', 'low', 'close', 'volume']  \n",
    "\n",
    "df.columns = columns "
   ]
  },
  {
   "cell_type": "code",
   "execution_count": null,
   "id": "56b60ded-ec76-4c5d-8e19-687f434ad6ba",
   "metadata": {},
   "outputs": [],
   "source": [
    "df.head()"
   ]
  },
  {
   "cell_type": "code",
   "execution_count": null,
   "id": "5b0b007f-02f8-4b77-a506-f21bd21fcc2f",
   "metadata": {},
   "outputs": [],
   "source": [
    "df.info()"
   ]
  },
  {
   "cell_type": "code",
   "execution_count": null,
   "id": "6fdfb97c-ff27-471a-a1d8-135ee2559d9f",
   "metadata": {},
   "outputs": [],
   "source": [
    "#datatype conversion from object(string) to float/int(numeric)\n",
    "\n",
    "df = df.apply(pd.to_numeric, errors='coerce')"
   ]
  },
  {
   "cell_type": "code",
   "execution_count": null,
   "id": "3cf87f44-ba3e-48ad-8169-dbb03469eb26",
   "metadata": {},
   "outputs": [],
   "source": [
    "df.info()"
   ]
  },
  {
   "cell_type": "code",
   "execution_count": null,
   "id": "e434e94c-a99c-4acf-9551-b277de638cd4",
   "metadata": {},
   "outputs": [],
   "source": [
    "sns.set_theme(style=\"dark\")"
   ]
  },
  {
   "cell_type": "code",
   "execution_count": null,
   "id": "28ca33f6-1022-4d70-aa4d-3e0b75e7a677",
   "metadata": {},
   "outputs": [],
   "source": [
    "#creating new column of \"datetime\" datatype\n",
    "\n",
    "df['Date'] = pd.to_datetime(df.index)  "
   ]
  },
  {
   "cell_type": "code",
   "execution_count": null,
   "id": "1782dd88-b5d1-4c8f-8854-b1ca29b76839",
   "metadata": {},
   "outputs": [],
   "source": [
    "df1 = df.sort_values('Date')"
   ]
  },
  {
   "cell_type": "code",
   "execution_count": null,
   "id": "80854c22-ebb6-4b74-87e6-47ceb6bfab7c",
   "metadata": {},
   "outputs": [],
   "source": [
    "df1.head()"
   ]
  },
  {
   "cell_type": "code",
   "execution_count": null,
   "id": "7f2d717d-59a7-4725-8724-fd5d5beab728",
   "metadata": {},
   "outputs": [],
   "source": [
    "#lineplotting closing value of last 100 days\n",
    "\n",
    "plt.figure(figsize=(18,9))\n",
    "sns.lineplot(data=df1, x='Date', y='close')\n",
    "plt.xlabel('')\n",
    "plt.ylabel('Closing Value')\n",
    "plt.title(\"Tesla Stock Price\")\n",
    "plt.tight_layout()\n",
    "plt.show()"
   ]
  },
  {
   "cell_type": "code",
   "execution_count": null,
   "id": "14beccef-ecfb-43ed-9a79-a0378f4b010f",
   "metadata": {},
   "outputs": [],
   "source": [
    "df1['Date']=pd.to_datetime(df1['Date'])"
   ]
  },
  {
   "cell_type": "code",
   "execution_count": null,
   "id": "888fc38b-2593-41d0-a0c7-0dfedeef5993",
   "metadata": {},
   "outputs": [],
   "source": [
    "df1.index=df1['Date']"
   ]
  },
  {
   "cell_type": "code",
   "execution_count": null,
   "id": "620bc2c5-02d3-4630-a397-c21b09abdc16",
   "metadata": {},
   "outputs": [],
   "source": [
    "df1 = df1.drop(columns='Date')"
   ]
  },
  {
   "cell_type": "code",
   "execution_count": null,
   "id": "cb9064f9-7291-4303-96c5-0a1e16f03b03",
   "metadata": {},
   "outputs": [],
   "source": [
    "mpf.plot(df1, type='candle', style='yahoo', mav=(5,20), figratio=(18,9))  #candlestick plotting using mpl finance lib\n",
    "plt.show()"
   ]
  },
  {
   "cell_type": "code",
   "execution_count": null,
   "id": "351142f7-7452-4289-ba24-37121cbd7307",
   "metadata": {},
   "outputs": [],
   "source": [
    "# Machine Learning"
   ]
  },
  {
   "cell_type": "code",
   "execution_count": null,
   "id": "8de1dbcb-ddee-4261-8c07-bf0246393639",
   "metadata": {},
   "outputs": [],
   "source": [
    "total_rows = len(df1)\n",
    "\n",
    "total_rows"
   ]
  },
  {
   "cell_type": "code",
   "execution_count": null,
   "id": "03f279e5-11c4-4c87-88d8-b87e2ebc7200",
   "metadata": {},
   "outputs": [],
   "source": [
    "### Seperating training_size and test_size \n"
   ]
  },
  {
   "cell_type": "code",
   "execution_count": null,
   "id": "74828dbb-ebc1-4f4e-bbd2-6a30df0e35c1",
   "metadata": {},
   "outputs": [],
   "source": [
    "train_size = int(0.7*total_rows)"
   ]
  },
  {
   "cell_type": "code",
   "execution_count": null,
   "id": "265d7d22-89d1-47dc-a8ca-da60ac4c9ccc",
   "metadata": {},
   "outputs": [],
   "source": [
    "test_size = int(0.3*total_rows)"
   ]
  },
  {
   "cell_type": "code",
   "execution_count": null,
   "id": "62859b51-16d2-4465-8c1d-c61ea017bfc4",
   "metadata": {},
   "outputs": [],
   "source": [
    "train_size"
   ]
  },
  {
   "cell_type": "code",
   "execution_count": null,
   "id": "484881fc-2fc1-4669-a0b2-3d979377db68",
   "metadata": {},
   "outputs": [],
   "source": [
    "test_size"
   ]
  },
  {
   "cell_type": "code",
   "execution_count": null,
   "id": "bd84ce31-a5b7-497b-a29d-0a757533cae5",
   "metadata": {},
   "outputs": [],
   "source": [
    "### Spliting data "
   ]
  },
  {
   "cell_type": "code",
   "execution_count": null,
   "id": "02d12218-5998-42a6-aacd-26477483960a",
   "metadata": {},
   "outputs": [],
   "source": [
    "train_data = df1[:train_size]"
   ]
  },
  {
   "cell_type": "code",
   "execution_count": null,
   "id": "c9cd8a66-8ce5-4eb6-9774-5beb27cbfb34",
   "metadata": {},
   "outputs": [],
   "source": [
    "test_data = df1[train_size:(train_size+test_size)]"
   ]
  },
  {
   "cell_type": "code",
   "execution_count": null,
   "id": "a4f5b23c-1881-4322-89f6-a109995cc6b7",
   "metadata": {},
   "outputs": [],
   "source": [
    "test_data.head()"
   ]
  },
  {
   "cell_type": "code",
   "execution_count": null,
   "id": "46f679de-d6fd-43ad-8295-71477954a0c4",
   "metadata": {},
   "outputs": [],
   "source": [
    "train_data.head()"
   ]
  },
  {
   "cell_type": "code",
   "execution_count": null,
   "id": "7823564e-7eb3-4d7f-a26c-727b3df5c430",
   "metadata": {},
   "outputs": [],
   "source": [
    "len(train_data)"
   ]
  },
  {
   "cell_type": "code",
   "execution_count": null,
   "id": "567ef5f0-88f9-4f71-bfda-7e5e3e496322",
   "metadata": {},
   "outputs": [],
   "source": [
    "len(test_data)"
   ]
  },
  {
   "cell_type": "code",
   "execution_count": null,
   "id": "0f585e56-182a-4421-95f6-7c80f24f2dcf",
   "metadata": {},
   "outputs": [],
   "source": [
    "#from tensorflow.keras.callbacks import EarlyStopping"
   ]
  },
  {
   "cell_type": "code",
   "execution_count": null,
   "id": "fffae936-33b0-451b-8ca0-fd2bd09a001b",
   "metadata": {},
   "outputs": [],
   "source": [
    "train_data.info()"
   ]
  },
  {
   "cell_type": "code",
   "execution_count": null,
   "id": "f0456082-040b-487d-b499-5eed2f074248",
   "metadata": {},
   "outputs": [],
   "source": [
    "test_data.info()"
   ]
  },
  {
   "cell_type": "code",
   "execution_count": null,
   "id": "608be9e8-5fbb-45ac-be86-df9a4b3204e1",
   "metadata": {},
   "outputs": [],
   "source": [
    "## Moving Average Calculation and Visualization"
   ]
  },
  {
   "cell_type": "code",
   "execution_count": null,
   "id": "541189c9-467d-480a-b01c-7f34a6767da5",
   "metadata": {},
   "outputs": [],
   "source": [
    "close_price = train_data['close'].values"
   ]
  },
  {
   "cell_type": "code",
   "execution_count": null,
   "id": "cebbbcf1-e42c-404b-8507-fbbae1e1f30d",
   "metadata": {},
   "outputs": [],
   "source": [
    "close_price"
   ]
  },
  {
   "cell_type": "code",
   "execution_count": null,
   "id": "554619d8-51a5-4387-a985-214f07d01060",
   "metadata": {},
   "outputs": [],
   "source": [
    "window = 20\n",
    "\n",
    "ma = df1['close'].ewm(span=window, adjust=True).mean()"
   ]
  },
  {
   "cell_type": "code",
   "execution_count": null,
   "id": "aceaaff8-7bd4-4925-ad73-4ffb3c096299",
   "metadata": {},
   "outputs": [],
   "source": [
    "ma"
   ]
  },
  {
   "cell_type": "code",
   "execution_count": null,
   "id": "73b6dba8-1b2b-4cf0-a985-d338f689fca3",
   "metadata": {},
   "outputs": [],
   "source": [
    "ma.info()"
   ]
  },
  {
   "cell_type": "code",
   "execution_count": null,
   "id": "7a3aa61f-f722-4c2b-ab25-fd80861f1d70",
   "metadata": {},
   "outputs": [],
   "source": [
    "ind = ma.index"
   ]
  },
  {
   "cell_type": "code",
   "execution_count": null,
   "id": "5900c95b-70ce-4446-9abd-2b19d0f22bca",
   "metadata": {},
   "outputs": [],
   "source": [
    "ind"
   ]
  },
  {
   "cell_type": "code",
   "execution_count": null,
   "id": "94922070-918f-47f3-9416-c208f369e6b7",
   "metadata": {},
   "outputs": [],
   "source": [
    "fil_d = df1[df1.index.isin(ind)]"
   ]
  },
  {
   "cell_type": "code",
   "execution_count": null,
   "id": "7f742652-21b8-4810-b0a0-a04386f5b8f2",
   "metadata": {},
   "outputs": [],
   "source": [
    "fil_d"
   ]
  },
  {
   "cell_type": "code",
   "execution_count": null,
   "id": "94c7e114-b0fa-48c0-8aca-1acdbf4df99a",
   "metadata": {},
   "outputs": [],
   "source": [
    "avg = ma.values"
   ]
  },
  {
   "cell_type": "code",
   "execution_count": null,
   "id": "005bb5ba-7c2b-4c9e-9673-ab21bd081040",
   "metadata": {},
   "outputs": [],
   "source": [
    "avg"
   ]
  },
  {
   "cell_type": "code",
   "execution_count": null,
   "id": "6039a74b-48e3-43ba-be0b-6d2332a8e71a",
   "metadata": {},
   "outputs": [],
   "source": [
    "mav = pd.DataFrame(avg, columns=['price'], index=ma.index)"
   ]
  },
  {
   "cell_type": "code",
   "execution_count": null,
   "id": "39ade303-03e8-43ec-84ea-578768efef78",
   "metadata": {},
   "outputs": [],
   "source": [
    "mav"
   ]
  },
  {
   "cell_type": "code",
   "execution_count": null,
   "id": "1570eb75-7366-47cd-acea-540ab36757c5",
   "metadata": {},
   "outputs": [],
   "source": [
    "plt.figure(figsize=(18,9))\n",
    "sns.lineplot(data=mav, x='Date', y='price', color='blue', label='EMA')\n",
    "sns.lineplot(data=fil_d, x='Date', y='close', color='red', label='Actual Closing Price')\n",
    "plt.legend()\n",
    "plt.tight_layout()\n",
    "plt.show()"
   ]
  },
  {
   "cell_type": "code",
   "execution_count": null,
   "id": "77b189ff-db63-476d-8966-44418a8554d6",
   "metadata": {},
   "outputs": [],
   "source": [
    "#normalising data \n",
    "\n",
    "scaler = MinMaxScaler()\n",
    "scaled_train_data = scaler.fit_transform(train_data)\n",
    "scaled_test_data = scaler.transform(test_data)"
   ]
  },
  {
   "cell_type": "code",
   "execution_count": null,
   "id": "dc20c0dc-9494-4c00-8a43-02d1862d5420",
   "metadata": {},
   "outputs": [],
   "source": [
    "scaled_train_data"
   ]
  },
  {
   "cell_type": "code",
   "execution_count": null,
   "id": "7c7a851e-8e94-4a8a-8568-73318ac79e2b",
   "metadata": {},
   "outputs": [],
   "source": [
    "scaled_test_data"
   ]
  },
  {
   "cell_type": "code",
   "execution_count": null,
   "id": "5c307087-1532-4fb8-be2b-4df3fc2fd39a",
   "metadata": {},
   "outputs": [],
   "source": [
    "x_train = []\n",
    "y_train = []"
   ]
  },
  {
   "cell_type": "code",
   "execution_count": null,
   "id": "36b39644-62c9-4d18-8f45-1b4ba4fcca7d",
   "metadata": {},
   "outputs": [],
   "source": [
    "sequence_length = 10"
   ]
  },
  {
   "cell_type": "code",
   "execution_count": null,
   "id": "4af38d90-5757-436b-b4d7-9eac786e1ed5",
   "metadata": {},
   "outputs": [],
   "source": [
    "for i in range(len(scaled_train_data)-sequence_length):\n",
    "    x_train.append(scaled_train_data[i:i+sequence_length])\n",
    "    y_train.append(scaled_train_data[i+sequence_length])"
   ]
  },
  {
   "cell_type": "code",
   "execution_count": null,
   "id": "4f3fa133-9c58-40ef-8bbe-4b209cfef7da",
   "metadata": {},
   "outputs": [],
   "source": [
    "x_test = []\n",
    "y_test = []"
   ]
  },
  {
   "cell_type": "code",
   "execution_count": null,
   "id": "133d6bb6-6911-4a7c-9113-1ff54fc80018",
   "metadata": {},
   "outputs": [],
   "source": [
    "for i in range(len(scaled_test_data)-sequence_length):\n",
    "    x_test.append(scaled_test_data[i:i+sequence_length])\n",
    "    y_test.append(scaled_test_data[i+sequence_length])"
   ]
  },
  {
   "cell_type": "code",
   "execution_count": null,
   "id": "d56f317c-1b55-45aa-9d0d-7cd09f6b7796",
   "metadata": {},
   "outputs": [],
   "source": [
    "x_train, y_train = np.array(x_train), np.array(y_train)\n",
    "x_test, y_test = np.array(x_test), np.array(y_test)"
   ]
  },
  {
   "cell_type": "code",
   "execution_count": null,
   "id": "c0454f1b-f808-41ca-8c7f-c79d87b1d23e",
   "metadata": {},
   "outputs": [],
   "source": [
    "x_train"
   ]
  },
  {
   "cell_type": "code",
   "execution_count": null,
   "id": "118f1769-5116-4f03-afd9-8e2a1b0fa6f1",
   "metadata": {},
   "outputs": [],
   "source": [
    "y_train"
   ]
  },
  {
   "cell_type": "code",
   "execution_count": null,
   "id": "e70ad596-bd8a-45b7-af07-4b1d6d4ec035",
   "metadata": {},
   "outputs": [],
   "source": [
    "x_train.shape"
   ]
  },
  {
   "cell_type": "code",
   "execution_count": null,
   "id": "a70f56ed-929e-42c7-802a-852b408ce5c7",
   "metadata": {},
   "outputs": [],
   "source": [
    "y_train.shape"
   ]
  },
  {
   "cell_type": "code",
   "execution_count": null,
   "id": "7fa199c3-4ee6-46cc-927d-da90da34f510",
   "metadata": {},
   "outputs": [],
   "source": [
    "x_test.shape"
   ]
  },
  {
   "cell_type": "code",
   "execution_count": null,
   "id": "1f29f22e-dce4-420e-98e4-05a9d709b95b",
   "metadata": {},
   "outputs": [],
   "source": [
    "y_test.shape"
   ]
  },
  {
   "cell_type": "code",
   "execution_count": null,
   "id": "372c1d07-6b73-4c40-8d10-4184070e6eb9",
   "metadata": {},
   "outputs": [],
   "source": [
    "len(df1.columns)"
   ]
  },
  {
   "cell_type": "code",
   "execution_count": null,
   "id": "55d6bd26-c91f-4e3d-9289-4b38f219b189",
   "metadata": {},
   "outputs": [],
   "source": [
    "#Neural Network model\n",
    "\n",
    "model = tf.keras.models.Sequential([\n",
    "    tf.keras.layers.LSTM(100, activation='relu', input_shape=(sequence_length, 5)),\n",
    "    tf.keras.layers.Dense(50),\n",
    "    tf.keras.layers.Dense(5)\n",
    "])"
   ]
  },
  {
   "cell_type": "code",
   "execution_count": null,
   "id": "134644f7-eb88-4bb7-9605-8a4c8d88acef",
   "metadata": {},
   "outputs": [],
   "source": [
    "#compile the model\n",
    "\n",
    "model.compile(optimizer='adam', loss='mean_squared_error')"
   ]
  },
  {
   "cell_type": "code",
   "execution_count": null,
   "id": "40109c73-165e-4148-974e-ed8eb29945d2",
   "metadata": {},
   "outputs": [],
   "source": [
    "#train the model\n",
    "\n",
    "model.fit(x_train, y_train, epochs=50, batch_size=16)"
   ]
  },
  {
   "cell_type": "code",
   "execution_count": null,
   "id": "8d3788d1-8421-428c-9c0c-57f8e7de7622",
   "metadata": {},
   "outputs": [],
   "source": [
    "test_loss = model.evaluate(x_test)\n",
    "\n",
    "test_loss"
   ]
  },
  {
   "cell_type": "code",
   "execution_count": null,
   "id": "5a84ce9b-014b-46a0-9add-77c1596287fb",
   "metadata": {},
   "outputs": [],
   "source": [
    "history = model.fit(x_train, y_train, epochs=50, batch_size=16, validation_split=0.3)"
   ]
  },
  {
   "cell_type": "code",
   "execution_count": null,
   "id": "13e7dd9e-dfa2-479d-b74c-a338a80529a6",
   "metadata": {},
   "outputs": [],
   "source": [
    "# Plot the training loss and validation loss over epochs\n",
    "\n",
    "plt.plot(history.history['loss'], label='Training Loss')\n",
    "plt.plot(history.history['val_loss'], label='Validation Loss')\n",
    "plt.title('Training and Validation Loss Over Epochs')\n",
    "plt.xlabel('Epochs')\n",
    "plt.ylabel('Loss')\n",
    "plt.legend()\n",
    "plt.show()"
   ]
  },
  {
   "cell_type": "code",
   "execution_count": null,
   "id": "3ee01cec-81e2-4c2d-9a56-5d512f3e59c3",
   "metadata": {},
   "outputs": [],
   "source": [
    "#predict using the created neural network\n",
    "\n",
    "predicted_prices = model.predict(x_test)"
   ]
  },
  {
   "cell_type": "code",
   "execution_count": null,
   "id": "8f0d7629-4d0e-4c41-ba75-7fc68de20cfb",
   "metadata": {},
   "outputs": [],
   "source": [
    "predicted_prices"
   ]
  },
  {
   "cell_type": "code",
   "execution_count": null,
   "id": "2e74bc18-be22-4bac-9395-fcb89f885007",
   "metadata": {},
   "outputs": [],
   "source": [
    "#retransforming the scaled data into real data\n",
    "\n",
    "predictions_x = scaler.inverse_transform(predicted_prices)"
   ]
  },
  {
   "cell_type": "code",
   "execution_count": null,
   "id": "4a7b1820-57db-4a15-882e-986703d01ab6",
   "metadata": {},
   "outputs": [],
   "source": [
    "predictions_y = scaler.inverse_transform(y_test)"
   ]
  },
  {
   "cell_type": "code",
   "execution_count": null,
   "id": "61e449d3-b8f4-4855-8b24-5b0773bfd0d3",
   "metadata": {},
   "outputs": [],
   "source": [
    "#cost function and error\n",
    "\n",
    "rmse = np.sqrt(mean_squared_error(y_test, predicted_prices))"
   ]
  },
  {
   "cell_type": "code",
   "execution_count": null,
   "id": "89161e0b-aa0f-4543-a6e4-5ca75ec4bcb2",
   "metadata": {},
   "outputs": [],
   "source": [
    "rmse"
   ]
  },
  {
   "cell_type": "code",
   "execution_count": null,
   "id": "5ab36e22-d3ab-4b8e-9974-2831811f76e5",
   "metadata": {},
   "outputs": [],
   "source": [
    "scaled_train_data.shape"
   ]
  },
  {
   "cell_type": "code",
   "execution_count": null,
   "id": "25f0133e-2f52-458d-bf43-6022cca86db3",
   "metadata": {},
   "outputs": [],
   "source": [
    "predictions_x.shape"
   ]
  },
  {
   "cell_type": "code",
   "execution_count": null,
   "id": "a34ea8df-c492-4ba1-aa77-7d56660f574b",
   "metadata": {},
   "outputs": [],
   "source": [
    "predicted_prices.shape[0]"
   ]
  },
  {
   "cell_type": "code",
   "execution_count": null,
   "id": "67468d6d-9ec0-42b2-b07d-b9ab979c0662",
   "metadata": {},
   "outputs": [],
   "source": [
    "train = df1[:train_size+1]\n",
    "valid = df1[train_size:train_size + len(predicted_prices)]\n",
    "valid.loc[:, 'Predictions'] = predictions_x[:, 3]\n"
   ]
  },
  {
   "cell_type": "code",
   "execution_count": null,
   "id": "76768194-e35e-455a-a1f9-89d0f9d31c29",
   "metadata": {},
   "outputs": [],
   "source": [
    "train"
   ]
  },
  {
   "cell_type": "code",
   "execution_count": null,
   "id": "817ea7a2-a435-4792-8802-aadd38ee08a0",
   "metadata": {},
   "outputs": [],
   "source": [
    "valid"
   ]
  },
  {
   "cell_type": "code",
   "execution_count": null,
   "id": "7d67dcb5-64ac-485f-96a2-8bb78d3fd6a7",
   "metadata": {},
   "outputs": [],
   "source": [
    "#visualising real stock value with the predicted values\n",
    "\n",
    "plt.figure(figsize=(18,9))\n",
    "plt.xlabel('Date')\n",
    "plt.ylabel('Close Price')\n",
    "plt.plot(valid['close'])\n",
    "plt.plot(valid['Predictions'])\n",
    "plt.legend([ 'Actual','Predictions'])\n",
    "plt.show()"
   ]
  },
  {
   "cell_type": "code",
   "execution_count": null,
   "id": "718223b6-d7bb-46db-b3c3-ded66f3ec3b6",
   "metadata": {},
   "outputs": [],
   "source": []
  }
 ],
 "metadata": {
  "kernelspec": {
   "display_name": "Python 3 (ipykernel)",
   "language": "python",
   "name": "python3"
  },
  "language_info": {
   "codemirror_mode": {
    "name": "ipython",
    "version": 3
   },
   "file_extension": ".py",
   "mimetype": "text/x-python",
   "name": "python",
   "nbconvert_exporter": "python",
   "pygments_lexer": "ipython3",
   "version": "3.11.6"
  }
 },
 "nbformat": 4,
 "nbformat_minor": 5
}
